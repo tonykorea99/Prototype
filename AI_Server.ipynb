{
  "nbformat": 4,
  "nbformat_minor": 0,
  "metadata": {
    "colab": {
      "provenance": []
    },
    "kernelspec": {
      "name": "python3",
      "display_name": "Python 3"
    },
    "language_info": {
      "name": "python"
    }
  },
  "cells": [
    {
      "cell_type": "code",
      "execution_count": 2,
      "metadata": {
        "colab": {
          "base_uri": "https://localhost:8080/"
        },
        "id": "bHqjjBbVpCc-",
        "outputId": "0ab2923c-cc03-4020-fa52-15fd7aa66e06"
      },
      "outputs": [
        {
          "output_type": "stream",
          "name": "stdout",
          "text": [
            "Requirement already satisfied: Flask in /usr/local/lib/python3.10/dist-packages (2.2.5)\n",
            "Requirement already satisfied: Werkzeug>=2.2.2 in /usr/local/lib/python3.10/dist-packages (from Flask) (3.0.1)\n",
            "Requirement already satisfied: Jinja2>=3.0 in /usr/local/lib/python3.10/dist-packages (from Flask) (3.1.3)\n",
            "Requirement already satisfied: itsdangerous>=2.0 in /usr/local/lib/python3.10/dist-packages (from Flask) (2.1.2)\n",
            "Requirement already satisfied: click>=8.0 in /usr/local/lib/python3.10/dist-packages (from Flask) (8.1.7)\n",
            "Requirement already satisfied: MarkupSafe>=2.0 in /usr/local/lib/python3.10/dist-packages (from Jinja2>=3.0->Flask) (2.1.5)\n"
          ]
        }
      ],
      "source": [
        "pip install Flask\n"
      ]
    },
    {
      "cell_type": "code",
      "source": [
        "from google.colab import drive\n",
        "drive.mount('/content/drive')"
      ],
      "metadata": {
        "colab": {
          "base_uri": "https://localhost:8080/"
        },
        "id": "sL_SmnIoQLhF",
        "outputId": "6feb03c4-0a48-474b-fdb2-4daa468633aa"
      },
      "execution_count": 5,
      "outputs": [
        {
          "output_type": "stream",
          "name": "stdout",
          "text": [
            "Drive already mounted at /content/drive; to attempt to forcibly remount, call drive.mount(\"/content/drive\", force_remount=True).\n"
          ]
        }
      ]
    },
    {
      "cell_type": "code",
      "source": [
        "from flask import Flask, request, jsonify\n",
        "from keras.models import load_model\n",
        "import os\n",
        "\n",
        "app = Flask(__name__)\n",
        "\n",
        "# 구글 드라이브에서 모델 파일의 경로\n",
        "model_path = '/content/drive/MyDrive/smishing_model.h5'\n",
        "\n",
        "# AI 모델 로드\n",
        "if os.path.exists(model_path):\n",
        "    model = load_model(model_path)\n",
        "else:\n",
        "    raise FileNotFoundError(\"모델 파일을 찾을 수 없습니다.\")\n",
        "\n",
        "# 사용자 요청을 처리하는 라우트\n",
        "@app.route('/check_smishing', methods=['POST'])\n",
        "def check_smishing():\n",
        "    try:\n",
        "        # 클라이언트로부터 텍스트 메시지를 받음\n",
        "        data = request.json['message']\n",
        "\n",
        "        # 여기서 전처리 및 판별하는 코드를 추가\n",
        "        # 이 코드는 이미 모델에 내장되어 있으므로 생략합니다.\n",
        "\n",
        "        # AI 모델에 텍스트 메시지를 전달하고 스미싱 여부를 판단\n",
        "        prediction = model.predict(data)\n",
        "\n",
        "        # 스미싱 여부를 JSON 형식으로 반환\n",
        "        return jsonify({'is_smishing': prediction}), 200\n",
        "\n",
        "    except Exception as e:\n",
        "        # 예외 처리\n",
        "        return jsonify({'error': str(e)}), 500\n",
        "\n",
        "if __name__ == '__main__':\n",
        "    # 서버 실행\n",
        "    app.run(debug=True)\n"
      ],
      "metadata": {
        "colab": {
          "base_uri": "https://localhost:8080/"
        },
        "id": "egDVlV3tPqyQ",
        "outputId": "627f24d4-0054-43b7-be4a-eadf2d220b2b"
      },
      "execution_count": 10,
      "outputs": [
        {
          "output_type": "stream",
          "name": "stdout",
          "text": [
            " * Serving Flask app '__main__'\n",
            " * Debug mode: on\n"
          ]
        },
        {
          "output_type": "stream",
          "name": "stderr",
          "text": [
            "INFO:werkzeug:\u001b[31m\u001b[1mWARNING: This is a development server. Do not use it in a production deployment. Use a production WSGI server instead.\u001b[0m\n",
            " * Running on http://127.0.0.1:5000\n",
            "INFO:werkzeug:\u001b[33mPress CTRL+C to quit\u001b[0m\n",
            "INFO:werkzeug: * Restarting with stat\n"
          ]
        }
      ]
    }
  ]
}