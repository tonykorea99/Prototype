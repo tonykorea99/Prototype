{
  "nbformat": 4,
  "nbformat_minor": 0,
  "metadata": {
    "colab": {
      "provenance": []
    },
    "kernelspec": {
      "name": "python3",
      "display_name": "Python 3"
    },
    "language_info": {
      "name": "python"
    }
  },
  "cells": [
    {
      "cell_type": "code",
      "source": [
        "!pip install konlpy\n",
        "!pip install gensim"
      ],
      "metadata": {
        "colab": {
          "base_uri": "https://localhost:8080/"
        },
        "id": "qahzsR752mml",
        "outputId": "b1537b9f-2f3b-41bd-d6a8-462e17ab73c7"
      },
      "execution_count": 1,
      "outputs": [
        {
          "output_type": "stream",
          "name": "stdout",
          "text": [
            "Collecting konlpy\n",
            "  Downloading konlpy-0.6.0-py2.py3-none-any.whl (19.4 MB)\n",
            "\u001b[2K     \u001b[90m━━━━━━━━━━━━━━━━━━━━━━━━━━━━━━━━━━━━━━━━\u001b[0m \u001b[32m19.4/19.4 MB\u001b[0m \u001b[31m42.4 MB/s\u001b[0m eta \u001b[36m0:00:00\u001b[0m\n",
            "\u001b[?25hCollecting JPype1>=0.7.0 (from konlpy)\n",
            "  Downloading JPype1-1.5.0-cp310-cp310-manylinux_2_17_x86_64.manylinux2014_x86_64.whl (488 kB)\n",
            "\u001b[2K     \u001b[90m━━━━━━━━━━━━━━━━━━━━━━━━━━━━━━━━━━━━━━━━\u001b[0m \u001b[32m488.6/488.6 kB\u001b[0m \u001b[31m32.9 MB/s\u001b[0m eta \u001b[36m0:00:00\u001b[0m\n",
            "\u001b[?25hRequirement already satisfied: lxml>=4.1.0 in /usr/local/lib/python3.10/dist-packages (from konlpy) (4.9.4)\n",
            "Requirement already satisfied: numpy>=1.6 in /usr/local/lib/python3.10/dist-packages (from konlpy) (1.25.2)\n",
            "Requirement already satisfied: packaging in /usr/local/lib/python3.10/dist-packages (from JPype1>=0.7.0->konlpy) (24.0)\n",
            "Installing collected packages: JPype1, konlpy\n",
            "Successfully installed JPype1-1.5.0 konlpy-0.6.0\n",
            "Requirement already satisfied: gensim in /usr/local/lib/python3.10/dist-packages (4.3.2)\n",
            "Requirement already satisfied: numpy>=1.18.5 in /usr/local/lib/python3.10/dist-packages (from gensim) (1.25.2)\n",
            "Requirement already satisfied: scipy>=1.7.0 in /usr/local/lib/python3.10/dist-packages (from gensim) (1.11.4)\n",
            "Requirement already satisfied: smart-open>=1.8.1 in /usr/local/lib/python3.10/dist-packages (from gensim) (6.4.0)\n"
          ]
        }
      ]
    },
    {
      "cell_type": "code",
      "source": [
        "from google.colab import drive\n",
        "drive.mount('/content/drive')"
      ],
      "metadata": {
        "colab": {
          "base_uri": "https://localhost:8080/"
        },
        "id": "WS6Qe45Z2oY1",
        "outputId": "6e3fcf28-8fbb-45e6-9861-617cd63654aa"
      },
      "execution_count": 2,
      "outputs": [
        {
          "output_type": "stream",
          "name": "stdout",
          "text": [
            "Mounted at /content/drive\n"
          ]
        }
      ]
    },
    {
      "cell_type": "code",
      "source": [
        "import numpy as np\n",
        "import pandas as pd\n",
        "import urllib.request\n",
        "from tensorflow.keras.preprocessing.sequence import pad_sequences\n",
        "from tensorflow.keras.models import Sequential\n",
        "from tensorflow.keras.layers import Embedding, Bidirectional, LSTM, Dense\n",
        "from konlpy.tag import Okt\n",
        "from gensim.models.doc2vec import Doc2Vec, TaggedDocument\n",
        "from sklearn.model_selection import train_test_split\n",
        "from imblearn.over_sampling import RandomOverSampler\n",
        "from tensorflow.keras.layers import Flatten\n",
        "from tensorflow.keras.preprocessing.sequence import pad_sequences\n",
        "from tensorflow.keras.models import load_model\n",
        "\n"
      ],
      "metadata": {
        "id": "ayWO307l2mB9"
      },
      "execution_count": 3,
      "outputs": []
    },
    {
      "cell_type": "code",
      "execution_count": 6,
      "metadata": {
        "colab": {
          "base_uri": "https://localhost:8080/"
        },
        "id": "EhgpD9ct2fY5",
        "outputId": "c56732d7-892d-4813-fd94-fe853b725e91"
      },
      "outputs": [
        {
          "output_type": "stream",
          "name": "stdout",
          "text": [
            "텍스트를 입력하세요: 진짜 너무 졸리다....\n",
            "1/1 [==============================] - 1s 837ms/step\n",
            "99.86% 확률로 일반 메시지입니다.\n"
          ]
        }
      ],
      "source": [
        "\n",
        "\n",
        "# 모델을 불러올 경로\n",
        "model_path = '/content/drive/MyDrive/smishing_model.h5'\n",
        "\n",
        "# 모델 불러오기\n",
        "loaded_model = load_model(model_path)\n",
        "\n",
        "okt = Okt()\n",
        "\n",
        "# Doc2Vec 모델 불러오기\n",
        "doc2vec_model = Doc2Vec.load(\"/content/drive/MyDrive/doc2vec_model\")\n",
        "\n",
        "def classify_smishing(input_text):\n",
        "    # 형태소 분석기 사용 (Okt)\n",
        "    tokens = okt.morphs(input_text)  # 토큰화\n",
        "\n",
        "\n",
        " # 정수 인덱스로 변환\n",
        "    encoded = [[doc2vec_model.wv.key_to_index[word] for word in tokens if word in doc2vec_model.wv.key_to_index]]\n",
        "    pad_tokens = pad_sequences(encoded, maxlen=100, padding='post')\n",
        "\n",
        "    # 모델 예측\n",
        "    smishing_score = loaded_model.predict(pad_tokens.astype('float32'))[0][0]\n",
        "\n",
        "    # 스미싱 여부 판단 결과 출력\n",
        "    if smishing_score > 0.5:\n",
        "        print(\"{:.2f}% 확률로 스미싱입니다.\".format(smishing_score * 100))\n",
        "    else:\n",
        "        print(\"{:.2f}% 확률로 일반 메시지입니다.\".format((1 - smishing_score) * 100))\n",
        "\n",
        "# 사용자로부터 텍스트 입력 받기\n",
        "user_input_text = input(\"텍스트를 입력하세요: \")\n",
        "\n",
        "# 스미싱 여부 판단 수행\n",
        "classify_smishing(user_input_text)\n"
      ]
    }
  ]
}