{
  "nbformat": 4,
  "nbformat_minor": 0,
  "metadata": {
    "colab": {
      "provenance": [],
      "gpuType": "T4"
    },
    "kernelspec": {
      "name": "python3",
      "display_name": "Python 3"
    },
    "language_info": {
      "name": "python"
    },
    "accelerator": "GPU"
  },
  "cells": [
    {
      "cell_type": "code",
      "source": [
        "!pip install konlpy\n",
        "!pip install gensim"
      ],
      "metadata": {
        "colab": {
          "base_uri": "https://localhost:8080/"
        },
        "id": "JkjAQ5gJ5C2c",
        "outputId": "e7313913-6793-4240-d66f-47366e8f108d"
      },
      "execution_count": 11,
      "outputs": [
        {
          "output_type": "stream",
          "name": "stdout",
          "text": [
            "Requirement already satisfied: konlpy in /usr/local/lib/python3.10/dist-packages (0.6.0)\n",
            "Requirement already satisfied: JPype1>=0.7.0 in /usr/local/lib/python3.10/dist-packages (from konlpy) (1.5.0)\n",
            "Requirement already satisfied: lxml>=4.1.0 in /usr/local/lib/python3.10/dist-packages (from konlpy) (4.9.4)\n",
            "Requirement already satisfied: numpy>=1.6 in /usr/local/lib/python3.10/dist-packages (from konlpy) (1.25.2)\n",
            "Requirement already satisfied: packaging in /usr/local/lib/python3.10/dist-packages (from JPype1>=0.7.0->konlpy) (24.0)\n",
            "Requirement already satisfied: gensim in /usr/local/lib/python3.10/dist-packages (4.3.2)\n",
            "Requirement already satisfied: numpy>=1.18.5 in /usr/local/lib/python3.10/dist-packages (from gensim) (1.25.2)\n",
            "Requirement already satisfied: scipy>=1.7.0 in /usr/local/lib/python3.10/dist-packages (from gensim) (1.11.4)\n",
            "Requirement already satisfied: smart-open>=1.8.1 in /usr/local/lib/python3.10/dist-packages (from gensim) (6.4.0)\n"
          ]
        }
      ]
    },
    {
      "cell_type": "code",
      "source": [
        "from google.colab import drive\n",
        "drive.mount('/content/drive')"
      ],
      "metadata": {
        "colab": {
          "base_uri": "https://localhost:8080/"
        },
        "id": "OWtAsCIo5Cqn",
        "outputId": "62b50756-8f0e-47c2-db5c-7ee7ff0e6b2e"
      },
      "execution_count": 12,
      "outputs": [
        {
          "output_type": "stream",
          "name": "stdout",
          "text": [
            "Drive already mounted at /content/drive; to attempt to forcibly remount, call drive.mount(\"/content/drive\", force_remount=True).\n"
          ]
        }
      ]
    },
    {
      "cell_type": "code",
      "execution_count": 13,
      "metadata": {
        "colab": {
          "base_uri": "https://localhost:8080/"
        },
        "id": "c0PGsBj54-1G",
        "outputId": "b0fad157-4e3b-4c0f-fc00-228ae1b81225"
      },
      "outputs": [
        {
          "output_type": "stream",
          "name": "stderr",
          "text": [
            "<ipython-input-13-8d18e2ff3797>:14: DtypeWarning: Columns (2,3,4,5,6,10,11,15,16,20,21,24,25,26,30,31,35,36,40,41,45,46,50,51,55,56,60,61,65,66,70,71,75,76,80,81,85,86,90,91,95,96,100,101,105,106,110,111,115,116,120,121,125,126,130,131,135,136,140,141) have mixed types. Specify dtype option on import or set low_memory=False.\n",
            "  data = pd.read_csv('OriginData2.csv', encoding='utf-8')\n"
          ]
        },
        {
          "output_type": "stream",
          "name": "stdout",
          "text": [
            "총 샘플 수: 87002\n",
            "중복 제거 후의 전체 샘플 수: 84726\n"
          ]
        },
        {
          "output_type": "stream",
          "name": "stderr",
          "text": [
            "<ipython-input-13-8d18e2ff3797>:22: SettingWithCopyWarning: \n",
            "A value is trying to be set on a copy of a slice from a DataFrame.\n",
            "Try using .loc[row_indexer,col_indexer] = value instead\n",
            "\n",
            "See the caveats in the documentation: https://pandas.pydata.org/pandas-docs/stable/user_guide/indexing.html#returning-a-view-versus-a-copy\n",
            "  data['v1'] = data['v1'].replace(['ham', 'spam'], [0, 1])\n",
            "<ipython-input-13-8d18e2ff3797>:23: SettingWithCopyWarning: \n",
            "A value is trying to be set on a copy of a slice from a DataFrame\n",
            "\n",
            "See the caveats in the documentation: https://pandas.pydata.org/pandas-docs/stable/user_guide/indexing.html#returning-a-view-versus-a-copy\n",
            "  data.drop_duplicates(subset=['v2'], inplace=True)\n"
          ]
        }
      ],
      "source": [
        "import numpy as np\n",
        "import pandas as pd\n",
        "import urllib.request\n",
        "from gensim.models.doc2vec import Doc2Vec, TaggedDocument\n",
        "from konlpy.tag import Okt\n",
        "from sklearn.model_selection import train_test_split\n",
        "from tensorflow.keras.models import Sequential\n",
        "from tensorflow.keras.layers import Embedding, Bidirectional, LSTM, Dense\n",
        "from tensorflow.keras.layers import Flatten\n",
        "from tensorflow.keras.preprocessing.sequence import pad_sequences\n",
        "# 데이터 불러오기\n",
        "try:\n",
        "    urllib.request.urlretrieve(\"https://raw.githubusercontent.com/tonykorea99/Spam-alart/main/OriginData2.csv\", filename='OriginData2.csv')\n",
        "    data = pd.read_csv('OriginData2.csv', encoding='utf-8')\n",
        "    data = data.sample(frac=1, random_state=42)\n",
        "    print('총 샘플 수:', len(data))\n",
        "except Exception as e:\n",
        "    print('에러 발생:', e)\n",
        "\n",
        "# 필요한 열 선택 및 중복 제거\n",
        "data = data[['v1', 'v2']]\n",
        "data['v1'] = data['v1'].replace(['ham', 'spam'], [0, 1])\n",
        "data.drop_duplicates(subset=['v2'], inplace=True)\n",
        "print('중복 제거 후의 전체 샘플 수:', len(data))\n",
        "\n",
        "# 형태소 분리\n",
        "okt = Okt()\n",
        "\n",
        "# 형태소 분리 및 토크나이징\n",
        "data['tokens'] = data['v2'].apply(lambda x: okt.morphs(x))\n",
        "\n",
        "# Doc2Vec 모델 학습을 위한 태그 설정\n",
        "tagged_data = [TaggedDocument(words=_d, tags=[str(i)]) for i, _d in enumerate(data['tokens'])]\n",
        "\n",
        "# Doc2Vec 모델 학습\n",
        "doc2vec_model = Doc2Vec(vector_size=100, window=5, min_count=1, workers=4, epochs=100)\n",
        "doc2vec_model.build_vocab(tagged_data)\n",
        "doc2vec_model.train(tagged_data, total_examples=doc2vec_model.corpus_count, epochs=doc2vec_model.epochs)\n",
        "\n",
        "# 학습된 Doc2Vec 모델 저장\n",
        "doc2vec_model.save(\"/content/drive/MyDrive/doc2vec_model\")\n",
        "\n"
      ]
    },
    {
      "cell_type": "code",
      "source": [
        "# 문서를 벡터로 변환\n",
        "X = [doc2vec_model.infer_vector(doc.words) for doc in tagged_data]\n",
        "\n",
        "# 레이블 및 데이터 분리\n",
        "y = data['v1'].values\n",
        "X_train, X_test, y_train, y_test = train_test_split(X, y, test_size=0.2, random_state=42)\n"
      ],
      "metadata": {
        "id": "4SmVysuA5T7e"
      },
      "execution_count": null,
      "outputs": []
    },
    {
      "cell_type": "code",
      "source": [
        "\n",
        "# LSTM 모델 정의\n",
        "\n",
        "\n",
        "model_lstm = Sequential()\n",
        "model_lstm.add(Embedding(input_dim=len(doc2vec_model.wv.index_to_key), output_dim=200, input_length=100))\n",
        "model_lstm.add(Bidirectional(LSTM(128)))\n",
        "model_lstm.add(Dense(1, activation='sigmoid'))\n",
        "\n",
        "# 모델 컴파일\n",
        "model_lstm.compile(optimizer='adam', loss='binary_crossentropy', metrics=['accuracy'])\n",
        "\n",
        "# 문서 벡터에 패딩 추가\n",
        "X_train_pad = pad_sequences(X_train)\n",
        "X_test_pad = pad_sequences(X_test, maxlen=X_train_pad.shape[1])  # X_test의 패딩 길이를 X_train에 맞춤\n"
      ],
      "metadata": {
        "id": "6fUG9whNEBzl"
      },
      "execution_count": null,
      "outputs": []
    },
    {
      "cell_type": "code",
      "source": [
        "\n",
        "# 모델 훈련\n",
        "model_lstm.fit(X_train_pad, y_train, epochs=20, batch_size=64, validation_split=0.1)\n",
        "\n",
        "\n"
      ],
      "metadata": {
        "colab": {
          "base_uri": "https://localhost:8080/"
        },
        "id": "6V0l6BAIBkes",
        "outputId": "566743cd-f528-4cd7-f090-d3622e6e23cf"
      },
      "execution_count": 16,
      "outputs": [
        {
          "output_type": "stream",
          "name": "stdout",
          "text": [
            "Epoch 1/20\n",
            "954/954 [==============================] - 25s 19ms/step - loss: 0.3822 - accuracy: 0.8677 - val_loss: 0.3828 - val_accuracy: 0.8677\n",
            "Epoch 2/20\n",
            "954/954 [==============================] - 15s 16ms/step - loss: 0.3599 - accuracy: 0.8756 - val_loss: 0.3433 - val_accuracy: 0.8753\n",
            "Epoch 3/20\n",
            "954/954 [==============================] - 15s 16ms/step - loss: 0.3403 - accuracy: 0.8786 - val_loss: 0.3355 - val_accuracy: 0.8770\n",
            "Epoch 4/20\n",
            "954/954 [==============================] - 15s 15ms/step - loss: 0.3347 - accuracy: 0.8815 - val_loss: 0.3324 - val_accuracy: 0.8793\n",
            "Epoch 5/20\n",
            "954/954 [==============================] - 15s 15ms/step - loss: 0.3304 - accuracy: 0.8846 - val_loss: 0.3311 - val_accuracy: 0.8789\n",
            "Epoch 6/20\n",
            "954/954 [==============================] - 15s 15ms/step - loss: 0.3263 - accuracy: 0.8862 - val_loss: 0.3285 - val_accuracy: 0.8858\n",
            "Epoch 7/20\n",
            "954/954 [==============================] - 16s 16ms/step - loss: 0.3247 - accuracy: 0.8871 - val_loss: 0.3289 - val_accuracy: 0.8840\n",
            "Epoch 8/20\n",
            "954/954 [==============================] - 15s 15ms/step - loss: 0.3234 - accuracy: 0.8872 - val_loss: 0.3260 - val_accuracy: 0.8851\n",
            "Epoch 9/20\n",
            "954/954 [==============================] - 15s 15ms/step - loss: 0.3237 - accuracy: 0.8874 - val_loss: 0.3277 - val_accuracy: 0.8846\n",
            "Epoch 10/20\n",
            "954/954 [==============================] - 15s 15ms/step - loss: 0.3213 - accuracy: 0.8886 - val_loss: 0.3272 - val_accuracy: 0.8852\n",
            "Epoch 11/20\n",
            "954/954 [==============================] - 15s 16ms/step - loss: 0.3202 - accuracy: 0.8886 - val_loss: 0.3274 - val_accuracy: 0.8854\n",
            "Epoch 12/20\n",
            "954/954 [==============================] - 15s 15ms/step - loss: 0.3194 - accuracy: 0.8890 - val_loss: 0.3257 - val_accuracy: 0.8854\n",
            "Epoch 13/20\n",
            "954/954 [==============================] - 16s 16ms/step - loss: 0.3184 - accuracy: 0.8895 - val_loss: 0.3281 - val_accuracy: 0.8846\n",
            "Epoch 14/20\n",
            "954/954 [==============================] - 15s 16ms/step - loss: 0.3171 - accuracy: 0.8893 - val_loss: 0.3276 - val_accuracy: 0.8845\n",
            "Epoch 15/20\n",
            "954/954 [==============================] - 15s 16ms/step - loss: 0.3157 - accuracy: 0.8900 - val_loss: 0.3260 - val_accuracy: 0.8860\n",
            "Epoch 16/20\n",
            "954/954 [==============================] - 16s 17ms/step - loss: 0.3154 - accuracy: 0.8902 - val_loss: 0.3286 - val_accuracy: 0.8846\n",
            "Epoch 17/20\n",
            "954/954 [==============================] - 15s 16ms/step - loss: 0.3143 - accuracy: 0.8904 - val_loss: 0.3267 - val_accuracy: 0.8843\n",
            "Epoch 18/20\n",
            "954/954 [==============================] - 16s 17ms/step - loss: 0.3161 - accuracy: 0.8897 - val_loss: 0.3247 - val_accuracy: 0.8860\n",
            "Epoch 19/20\n",
            "954/954 [==============================] - 15s 16ms/step - loss: 0.3122 - accuracy: 0.8907 - val_loss: 0.3250 - val_accuracy: 0.8855\n",
            "Epoch 20/20\n",
            "954/954 [==============================] - 15s 16ms/step - loss: 0.3122 - accuracy: 0.8909 - val_loss: 0.3282 - val_accuracy: 0.8833\n"
          ]
        },
        {
          "output_type": "execute_result",
          "data": {
            "text/plain": [
              "<keras.src.callbacks.History at 0x7dd7b93814b0>"
            ]
          },
          "metadata": {},
          "execution_count": 16
        }
      ]
    },
    {
      "cell_type": "code",
      "source": [
        "# 모델 평가\n",
        "loss, accuracy = model_lstm.evaluate(X_test_pad, y_test)\n",
        "print(f'Loss: {loss}, Accuracy: {accuracy}')\n",
        "\n",
        "# 모델 저장\n",
        "model_path = '/content/drive/MyDrive/smishing_model.h5'\n",
        "model_lstm.save(model_path)"
      ],
      "metadata": {
        "id": "EPd_N5VKHWIj",
        "outputId": "64776bb6-dd5c-4961-8f70-203bc14d2a41",
        "colab": {
          "base_uri": "https://localhost:8080/"
        }
      },
      "execution_count": 17,
      "outputs": [
        {
          "output_type": "stream",
          "name": "stdout",
          "text": [
            "530/530 [==============================] - 4s 7ms/step - loss: 0.3182 - accuracy: 0.8901\n",
            "Loss: 0.31822940707206726, Accuracy: 0.890121579170227\n"
          ]
        },
        {
          "output_type": "stream",
          "name": "stderr",
          "text": [
            "/usr/local/lib/python3.10/dist-packages/keras/src/engine/training.py:3103: UserWarning: You are saving your model as an HDF5 file via `model.save()`. This file format is considered legacy. We recommend using instead the native Keras format, e.g. `model.save('my_model.keras')`.\n",
            "  saving_api.save_model(\n"
          ]
        }
      ]
    }
  ]
}